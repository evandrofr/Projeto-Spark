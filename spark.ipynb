{
 "cells": [
  {
   "cell_type": "code",
   "execution_count": 1,
   "metadata": {},
   "outputs": [],
   "source": [
    "import pyspark"
   ]
  },
  {
   "cell_type": "code",
   "execution_count": 2,
   "metadata": {},
   "outputs": [],
   "source": [
    "sc = pyspark.SparkContext(appName = \"Oi mundo!\")"
   ]
  },
  {
   "cell_type": "code",
   "execution_count": 3,
   "metadata": {},
   "outputs": [
    {
     "data": {
      "text/html": [
       "\n",
       "        <div>\n",
       "            <p><b>SparkContext</b></p>\n",
       "\n",
       "            <p><a href=\"http://LAPTOP-KTRST55N:4040\">Spark UI</a></p>\n",
       "\n",
       "            <dl>\n",
       "              <dt>Version</dt>\n",
       "                <dd><code>v3.0.1</code></dd>\n",
       "              <dt>Master</dt>\n",
       "                <dd><code>local[*]</code></dd>\n",
       "              <dt>AppName</dt>\n",
       "                <dd><code>Oi mundo!</code></dd>\n",
       "            </dl>\n",
       "        </div>\n",
       "        "
      ],
      "text/plain": [
       "<SparkContext master=local[*] appName=Oi mundo!>"
      ]
     },
     "execution_count": 3,
     "metadata": {},
     "output_type": "execute_result"
    }
   ],
   "source": [
    "sc"
   ]
  },
  {
   "cell_type": "code",
   "execution_count": 4,
   "metadata": {},
   "outputs": [],
   "source": [
    "rdd = sc.sequenceFile('part-00000')"
   ]
  },
  {
   "cell_type": "code",
   "execution_count": 5,
   "metadata": {},
   "outputs": [
    {
     "data": {
      "text/plain": [
       "36133"
      ]
     },
     "execution_count": 5,
     "metadata": {},
     "output_type": "execute_result"
    }
   ],
   "source": [
    "rdd.count()"
   ]
  },
  {
   "cell_type": "code",
   "execution_count": 6,
   "metadata": {},
   "outputs": [],
   "source": [
    "result = rdd.take(10)"
   ]
  },
  {
   "cell_type": "code",
   "execution_count": 7,
   "metadata": {},
   "outputs": [],
   "source": [
    "palavra1 = \"playstation\"\n",
    "palavra2 = \"nintendo\""
   ]
  },
  {
   "cell_type": "code",
   "execution_count": 8,
   "metadata": {},
   "outputs": [],
   "source": [
    "def conta_palavras(item):\n",
    "    url, conteudo = item\n",
    "    palavras = conteudo.strip().split()\n",
    "    palavras = [\n",
    "        i.lower()\n",
    "        for i in palavras\n",
    "        if (any(j.isalpha() for j in i) and len(i) > 3)\n",
    "    ]\n",
    "\n",
    "    \n",
    "    if numero == 0:\n",
    "        if palavra1 in palavras and palavra2 in palavras:\n",
    "            return [(i, 1) for i in palavras]\n",
    "    elif numero == 1:\n",
    "        if palavra1 in palavras and palavra2 not in palavras:\n",
    "            return [(i, 1) for i in palavras]\n",
    "    elif numero == 2:\n",
    "        if palavra1 not in palavras and palavra2 in palavras:\n",
    "            return [(i, 1) for i in palavras]\n",
    "    return []\n",
    "\n",
    "def conta_doc(item):\n",
    "    url, conteudo = item\n",
    "    palavras = conteudo.strip().split()\n",
    "    palavras = [\n",
    "        i.lower()\n",
    "        for i in palavras\n",
    "        if (any(j.isalpha() for j in i) and len(i) > 3)\n",
    "    ]\n",
    "    if numero == 0:\n",
    "        if palavra1 in palavras and palavra2 in palavras:\n",
    "            return [(i, 1) for i in set(palavras)]\n",
    "    elif numero == 1:\n",
    "        if palavra1 in palavras and palavra2 not in palavras:\n",
    "            return [(i, 1) for i in set(palavras)]\n",
    "    elif numero == 2:\n",
    "        if palavra1 not in palavras and palavra2 in palavras:\n",
    "            return [(i, 1) for i in set(palavras)]\n",
    "    return []\n",
    "\n",
    "def junta_contagens(nova_contagem, contagem_atual):\n",
    "    return nova_contagem + contagem_atual\n",
    "\n",
    "\n",
    "numero = 0\n",
    "rdd_doc_freq = rdd.flatMap(conta_doc).reduceByKey(junta_contagens)\n",
    "rdd_palavra_freq = rdd.flatMap(conta_palavras).reduceByKey(junta_contagens)\n",
    "\n",
    "numero = 1\n",
    "rdd_doc_freq1 = rdd.flatMap(conta_doc).reduceByKey(junta_contagens)\n",
    "rdd_palavra_freq1 = rdd.flatMap(conta_palavras).reduceByKey(junta_contagens)\n",
    "\n",
    "numero = 2\n",
    "rdd_doc_freq2 = rdd.flatMap(conta_doc).reduceByKey(junta_contagens)\n",
    "rdd_palavra_freq2 = rdd.flatMap(conta_palavras).reduceByKey(junta_contagens)\n"
   ]
  },
  {
   "cell_type": "code",
   "execution_count": 9,
   "metadata": {},
   "outputs": [
    {
     "data": {
      "text/plain": [
       "[('feminino', 19),\n",
       " ('produtos', 100),\n",
       " ('criativos', 3),\n",
       " ('series', 39),\n",
       " ('placas', 44),\n",
       " ('qua15467', 1),\n",
       " ('series,', 1),\n",
       " ('crianças', 19),\n",
       " ('vazio', 31),\n",
       " ('extração', 3)]"
      ]
     },
     "execution_count": 9,
     "metadata": {},
     "output_type": "execute_result"
    }
   ],
   "source": [
    "rdd_doc_freq.take(10)"
   ]
  },
  {
   "cell_type": "code",
   "execution_count": 10,
   "metadata": {},
   "outputs": [],
   "source": [
    "N = rdd.count()\n",
    "DOC_COUNT_MIN = 5\n",
    "DOC_COUNT_MAX = 0.7*N\n",
    "\n",
    "def filtra_doc_freq(item):\n",
    "    contagem = item[1]\n",
    "    return (contagem < DOC_COUNT_MAX) and (contagem >= DOC_COUNT_MIN)\n",
    "\n",
    "rdd_doc_freq_filtrado = rdd_doc_freq.filter(filtra_doc_freq)\n",
    "rdd_doc_freq_filtrado1 = rdd_doc_freq1.filter(filtra_doc_freq)\n",
    "rdd_doc_freq_filtrado2 = rdd_doc_freq2.filter(filtra_doc_freq)"
   ]
  },
  {
   "cell_type": "code",
   "execution_count": 11,
   "metadata": {},
   "outputs": [],
   "source": [
    "import math\n",
    "\n",
    "def computa_idf(item):\n",
    "    palavra, contagem = item\n",
    "    idf = math.log10(N/contagem)\n",
    "    return (palavra, idf)\n",
    "\n",
    "def computa_freq(item):\n",
    "    palavra, contagem = item\n",
    "    freq = math.log10(1 + contagem)\n",
    "    return (palavra,freq)\n",
    "\n",
    "\n",
    "def computa_rele(item):\n",
    "    palavra, contagem = item\n",
    "    freq, idf = contagem\n",
    "    relevancia = freq*idf\n",
    "    return (palavra, relevancia)"
   ]
  },
  {
   "cell_type": "code",
   "execution_count": 12,
   "metadata": {},
   "outputs": [],
   "source": [
    "import csv\n",
    "\n",
    "rdd_idf = rdd_doc_freq_filtrado.map(computa_idf)\n",
    "rdd_freq = rdd_palavra_freq.map(computa_freq)\n",
    "rdd_rele = rdd_idf.join(rdd_freq).map(computa_rele)\n",
    "\n",
    "top_100 = rdd_rele.takeOrdered(100, key=(lambda x: -x[1]))\n",
    "\n",
    "with open(\"games.csv\", \"w\") as games:\n",
    "    csv0 = csv.writer(games)\n",
    "    csv0.writerow([\"palavra\", \"freq\"])\n",
    "    for row in top_100:\n",
    "        csv0.writerow(row)\n",
    "        \n",
    "        \n",
    "rdd_idf1 = rdd_doc_freq_filtrado1.map(computa_idf)\n",
    "rdd_freq1 = rdd_palavra_freq1.map(computa_freq)\n",
    "rdd_rele1 = rdd_idf1.join(rdd_freq1).map(computa_rele)\n",
    "\n",
    "top_100_1 = rdd_rele1.takeOrdered(100, key=(lambda x: -x[1]))\n",
    "\n",
    "with open(\"playstation.csv\", \"w\") as playstation:\n",
    "    csv1 = csv.writer(playstation)\n",
    "    csv1.writerow([\"palavra\", \"freq\"])\n",
    "    for row in top_100_1:\n",
    "        csv1.writerow(row)\n",
    "        \n",
    "        \n",
    "        \n",
    "rdd_idf2 = rdd_doc_freq_filtrado2.map(computa_idf)\n",
    "rdd_freq2 = rdd_palavra_freq2.map(computa_freq)\n",
    "rdd_rele2 = rdd_idf2.join(rdd_freq2).map(computa_rele)\n",
    "\n",
    "top_100_2 = rdd_rele2.takeOrdered(100, key=(lambda x: -x[1]))\n",
    "\n",
    "with open(\"nintendo.csv\", \"w\") as nintendo:\n",
    "    csv2 = csv.writer(nintendo)\n",
    "    csv2.writerow([\"palavra\", \"freq\"])\n",
    "    for row in top_100_2:\n",
    "        csv2.writerow(row)"
   ]
  },
  {
   "cell_type": "code",
   "execution_count": null,
   "metadata": {},
   "outputs": [],
   "source": []
  },
  {
   "cell_type": "code",
   "execution_count": null,
   "metadata": {},
   "outputs": [],
   "source": []
  },
  {
   "cell_type": "code",
   "execution_count": null,
   "metadata": {},
   "outputs": [],
   "source": []
  }
 ],
 "metadata": {
  "kernelspec": {
   "display_name": "Python 3",
   "language": "python",
   "name": "python3"
  },
  "language_info": {
   "codemirror_mode": {
    "name": "ipython",
    "version": 3
   },
   "file_extension": ".py",
   "mimetype": "text/x-python",
   "name": "python",
   "nbconvert_exporter": "python",
   "pygments_lexer": "ipython3",
   "version": "3.8.6"
  }
 },
 "nbformat": 4,
 "nbformat_minor": 4
}
